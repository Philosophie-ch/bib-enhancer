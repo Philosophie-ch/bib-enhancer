{
 "cells": [
  {
   "cell_type": "code",
   "execution_count": 1,
   "metadata": {},
   "outputs": [],
   "source": [
    "from bib_enhancer.adapters.crossref.crossref_client import CrossrefClient\n",
    "\n",
    "from bib_enhancer.adapters.crossref.crossref_models import CrossrefArticle"
   ]
  },
  {
   "cell_type": "code",
   "execution_count": 2,
   "metadata": {},
   "outputs": [],
   "source": [
    "cr = CrossrefClient(\n",
    "    email=\"tech@philosophie.ch\"\n",
    ")"
   ]
  },
  {
   "cell_type": "code",
   "execution_count": 3,
   "metadata": {},
   "outputs": [],
   "source": [
    "# Dialectica's print ISSN\n",
    "response = cr.journal_name_by_issn(issn=\"0012-2017\")\n",
    "assert response == 'dialectica'"
   ]
  },
  {
   "cell_type": "code",
   "execution_count": 4,
   "metadata": {},
   "outputs": [],
   "source": [
    "response = cr.journal_articles_by_issn_year(issn=\"0012-2017\", year=2019)"
   ]
  },
  {
   "cell_type": "code",
   "execution_count": 5,
   "metadata": {},
   "outputs": [],
   "source": [
    "item = response['message']['items'][0]"
   ]
  },
  {
   "cell_type": "code",
   "execution_count": 6,
   "metadata": {},
   "outputs": [
    {
     "data": {
      "text/plain": [
       "CrossrefArticle(indexed=CrossrefDateTime(date_parts=[[2022, 3, 28]], date_time='2022-03-28T23:35:36Z', timestamp=1648510536621), publisher='Verein philosophie.ch', issue='1-2', short_container_title=['Dialectica'], published_print=CrossrefDateParts(date_parts=[[2019, 3]]), DOI='10.1111/1746-8361.12257', type='journal-article', created=CrossrefDateTime(date_parts=[[2019, 7, 22]], date_time='2019-07-22T01:34:58Z', timestamp=1563759298000), page='273-279', source='Crossref', title=['RobertLockie, Free Will and Epistemology: A Defence of the Transcendental Argument for Freedom, London: Bloomsbury Academic, 2018, 320 pp., £91 (hardbound), ISBN 9781350029040.'], prefix='10.48106', volume='73', author=[CrossrefAuthor(given='Luca', family='Zanetti', sequence='first', affiliation=[{'name': 'University of Bologna'}])], published_online=CrossrefDateParts(date_parts=[[2019, 7, 21]]), container_title=['Dialectica'], language='en', link=[CrossrefLink(URL='https://api.wiley.com/onlinelibrary/tdm/v1/articles/10.1111%2F1746-8361.12257', content_type='application/pdf', content_version='vor', intended_application='text-mining'), CrossrefLink(URL='https://onlinelibrary.wiley.com/doi/pdf/10.1111/1746-8361.12257', content_type='application/pdf', content_version='vor', intended_application='text-mining'), CrossrefLink(URL='https://onlinelibrary.wiley.com/doi/full-xml/10.1111/1746-8361.12257', content_type='application/xml', content_version='vor', intended_application='text-mining'), CrossrefLink(URL='https://onlinelibrary.wiley.com/doi/pdf/10.1111/1746-8361.12257', content_type='unspecified', content_version='vor', intended_application='similarity-checking')], deposited=CrossrefDateTime(date_parts=[[2020, 11, 9]], date_time='2020-11-09T18:38:06Z', timestamp=1604947086000), issued=CrossrefDateParts(date_parts=[[2019, 3]]), references_count=0, alternative_id=['10.1111/1746-8361.12257'], URL='https://doi.org/10.1111/1746-8361.12257', ISSN=['0012-2017', '1746-8361'], issn_type=[CrossrefISSNType(value='0012-2017', type='print'), CrossrefISSNType(value='1746-8361', type='electronic')], published=CrossrefDateParts(date_parts=[[2019, 3]]))"
      ]
     },
     "execution_count": 6,
     "metadata": {},
     "output_type": "execute_result"
    }
   ],
   "source": [
    "CrossrefArticle(**item)"
   ]
  }
 ],
 "metadata": {
  "kernelspec": {
   "display_name": ".venv",
   "language": "python",
   "name": "python3"
  },
  "language_info": {
   "codemirror_mode": {
    "name": "ipython",
    "version": 3
   },
   "file_extension": ".py",
   "mimetype": "text/x-python",
   "name": "python",
   "nbconvert_exporter": "python",
   "pygments_lexer": "ipython3",
   "version": "3.13.0"
  }
 },
 "nbformat": 4,
 "nbformat_minor": 2
}
